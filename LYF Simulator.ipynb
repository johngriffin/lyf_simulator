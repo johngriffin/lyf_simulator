{
 "cells": [
  {
   "cell_type": "code",
   "execution_count": null,
   "id": "fc173292",
   "metadata": {},
   "outputs": [],
   "source": [
    "# Assumptions \n",
    "# - 2x farm where one asset is stablecoin, e.g.  ETH/USDC\n",
    "# - there is always borrow availability\n",
    "# - borrow rate, trading fees, rewards are constant"
   ]
  },
  {
   "cell_type": "code",
   "execution_count": null,
   "id": "0bf65e3d",
   "metadata": {},
   "outputs": [],
   "source": [
    "from math import exp, sqrt\n",
    "from statistics import mean\n",
    "import pandas as pd "
   ]
  },
  {
   "cell_type": "code",
   "execution_count": null,
   "id": "023635b3",
   "metadata": {},
   "outputs": [],
   "source": []
  },
  {
   "cell_type": "code",
   "execution_count": 142,
   "id": "48b89cb6",
   "metadata": {},
   "outputs": [],
   "source": [
    "class Agent():\n",
    "    \n",
    "    def __init__(self, equity, price, borrow_rate, farming_rate):\n",
    "        print(\"init\")\n",
    "        \n",
    "        self.borrow_rate = borrow_rate\n",
    "        self.farming_rate = farming_rate\n",
    "        \n",
    "        # Make an intial investment - 50% stablecoin, 50% borrowed token\n",
    "        self.equity = equity\n",
    "        self.assetA_count = equity / price  # token\n",
    "        self.assetB_count = equity          # stablecoin\n",
    "        self.debt_value =  self.assetA_count * price\n",
    "        \n",
    "        self.last_rebalance_step = 0\n",
    "        self.last_rebalance_price = price\n",
    "        \n",
    "        self.calculate_position(0, price)\n",
    "        \n",
    "    def rebalance(self, step, new_price):\n",
    "        print(\"rebalance\")\n",
    "        \n",
    "        # Debt is already subtracted from position_value to get equity\n",
    "        # Re-invest equity with a 50/50 split\n",
    "        self.assetA_count = self.equity / new_price  # token\n",
    "        self.assetB_count = self.equity              # stablecoin\n",
    "        self.debt_value =  self.assetA_count * new_price\n",
    "        \n",
    "        self.last_rebalance_step = step\n",
    "        self.last_rebalance_price = new_price\n",
    "    \n",
    "    # Calculates since last rebalance, not path-dependent\n",
    "    def calculate_position(self, step, new_price):\n",
    "        print(\"calculate_pnl\")\n",
    "        steps_since_rebalance = step - self.last_rebalance_step\n",
    "\n",
    "        price_change_ratio = new_price / self.last_rebalance_price\n",
    "        lp_multiplier = sqrt(price_change_ratio)\n",
    "        \n",
    "        # From https://docs.google.com/spreadsheets/d/1mGZDKgtRNXilSQT4U5YbqNPCSqMiPayuqvD8Xx4Keqo/\n",
    "        position_value = (2*self.assetB_count*lp_multiplier) + 2*mean([self.assetB_count*lp_multiplier, self.assetB_count])*(exp(self.farming_rate*steps_since_rebalance)-1)\n",
    "        \n",
    "        debt_value = self.assetA_count * new_price * exp(self.borrow_rate*steps_since_rebalance)\n",
    "        equity = position_value - debt_value\n",
    "        \n",
    "        self.position_value = position_value\n",
    "        self.debt_value = debt_value\n",
    "        self.equity = equity\n",
    "\n",
    "#        print (\"steps_since_rebalance=\" + str(steps_since_rebalance))\n",
    "#        print (\"price_change_ratio=\" + str(price_change_ratio))\n",
    "#        print (\"lp_multiplier=\" + str(lp_multiplier))\n",
    "#        print (\"position_value=\" + str(self.position_value))\n",
    "#        print (\"debt_value=\" + str(self.debt_value))\n",
    "#        print (\"equity_value=\" + str(self.equity))\n",
    "\n",
    "    def action(self, step, new_price):\n",
    "        print (\"\\nACTION...  price is \" + str(new_price))\n",
    "        print (\"self.last_rebalance_price=\" + str(self.last_rebalance_price))\n",
    "        \n",
    "        self.calculate_position(step, new_price)\n",
    "\n",
    "        # Naive rebalancer - trigger when price moves ~10% in either direction\n",
    "        if ((new_price >= self.last_rebalance_price*1.1) or (new_price <= self.last_rebalance_price*0.9)):\n",
    "            self.rebalance(step, new_price)\n",
    "            self.calculate_position(step, new_price)\n",
    "        \n"
   ]
  },
  {
   "cell_type": "code",
   "execution_count": 186,
   "id": "debb9f60",
   "metadata": {},
   "outputs": [
    {
     "name": "stdout",
     "output_type": "stream",
     "text": [
      "720 rows\n",
      "3761.58\n"
     ]
    }
   ],
   "source": [
    "########## PRICE DATASET #############\n",
    "\n",
    "# Test dataset\n",
    "test_prices = [13.70, 13.70, 14.385, 15.07, 15.76, 11.65, 12.33]\n",
    "\n",
    "# ETH dataset\n",
    "eth_prices = pd.read_csv('data/Binance_ETHUSDT_1h.csv')\n",
    "eth_prices['date'] = eth_prices['date'].str.slice(0,10)  # we remove time bc panadas won't parse otherwise\n",
    "eth_prices['date'] = pd.to_datetime(eth_prices['date'])\n",
    "\n",
    "# Filter on date\n",
    "eth_prices = eth_prices[(eth_prices['date'] > '2022-01-01') & (eth_prices['date'] < '2022-02-01')]\n",
    "\n",
    "# Reverse so that earliest price is first\n",
    "eth_prices = eth_prices.iloc[::-1]\n",
    "\n",
    "# Choose which dataset\n",
    "# Simulation expects a dataframe with a field called 'close' \n",
    "prices = eth_prices\n",
    "\n",
    "print (str(len(prices)) + \" rows\")\n",
    "prices.head()\n",
    "\n"
   ]
  },
  {
   "cell_type": "code",
   "execution_count": 187,
   "id": "c915c9ae",
   "metadata": {},
   "outputs": [
    {
     "name": "stdout",
     "output_type": "stream",
     "text": [
      "init\n",
      "calculate_pnl\n"
     ]
    },
    {
     "ename": "AttributeError",
     "evalue": "'DataFrame' object has no attribute 'rows'",
     "output_type": "error",
     "traceback": [
      "\u001b[0;31m---------------------------------------------------------------------------\u001b[0m",
      "\u001b[0;31mAttributeError\u001b[0m                            Traceback (most recent call last)",
      "\u001b[0;32m<ipython-input-187-297da9dcd260>\u001b[0m in \u001b[0;36m<module>\u001b[0;34m\u001b[0m\n\u001b[1;32m     20\u001b[0m \u001b[0;34m\u001b[0m\u001b[0m\n\u001b[1;32m     21\u001b[0m \u001b[0mstep\u001b[0m \u001b[0;34m=\u001b[0m \u001b[0;36m0\u001b[0m\u001b[0;34m\u001b[0m\u001b[0;34m\u001b[0m\u001b[0m\n\u001b[0;32m---> 22\u001b[0;31m \u001b[0;32mfor\u001b[0m \u001b[0mrow\u001b[0m \u001b[0;32min\u001b[0m \u001b[0mprices\u001b[0m\u001b[0;34m.\u001b[0m\u001b[0mrows\u001b[0m\u001b[0;34m:\u001b[0m\u001b[0;34m\u001b[0m\u001b[0;34m\u001b[0m\u001b[0m\n\u001b[0m\u001b[1;32m     23\u001b[0m     \u001b[0mstep\u001b[0m \u001b[0;34m+=\u001b[0m \u001b[0;36m1\u001b[0m\u001b[0;34m\u001b[0m\u001b[0;34m\u001b[0m\u001b[0m\n\u001b[1;32m     24\u001b[0m \u001b[0;34m\u001b[0m\u001b[0m\n",
      "\u001b[0;32m~/opt/anaconda3/lib/python3.8/site-packages/pandas/core/generic.py\u001b[0m in \u001b[0;36m__getattr__\u001b[0;34m(self, name)\u001b[0m\n\u001b[1;32m   5463\u001b[0m             \u001b[0;32mif\u001b[0m \u001b[0mself\u001b[0m\u001b[0;34m.\u001b[0m\u001b[0m_info_axis\u001b[0m\u001b[0;34m.\u001b[0m\u001b[0m_can_hold_identifiers_and_holds_name\u001b[0m\u001b[0;34m(\u001b[0m\u001b[0mname\u001b[0m\u001b[0;34m)\u001b[0m\u001b[0;34m:\u001b[0m\u001b[0;34m\u001b[0m\u001b[0;34m\u001b[0m\u001b[0m\n\u001b[1;32m   5464\u001b[0m                 \u001b[0;32mreturn\u001b[0m \u001b[0mself\u001b[0m\u001b[0;34m[\u001b[0m\u001b[0mname\u001b[0m\u001b[0;34m]\u001b[0m\u001b[0;34m\u001b[0m\u001b[0;34m\u001b[0m\u001b[0m\n\u001b[0;32m-> 5465\u001b[0;31m             \u001b[0;32mreturn\u001b[0m \u001b[0mobject\u001b[0m\u001b[0;34m.\u001b[0m\u001b[0m__getattribute__\u001b[0m\u001b[0;34m(\u001b[0m\u001b[0mself\u001b[0m\u001b[0;34m,\u001b[0m \u001b[0mname\u001b[0m\u001b[0;34m)\u001b[0m\u001b[0;34m\u001b[0m\u001b[0;34m\u001b[0m\u001b[0m\n\u001b[0m\u001b[1;32m   5466\u001b[0m \u001b[0;34m\u001b[0m\u001b[0m\n\u001b[1;32m   5467\u001b[0m     \u001b[0;32mdef\u001b[0m \u001b[0m__setattr__\u001b[0m\u001b[0;34m(\u001b[0m\u001b[0mself\u001b[0m\u001b[0;34m,\u001b[0m \u001b[0mname\u001b[0m\u001b[0;34m:\u001b[0m \u001b[0mstr\u001b[0m\u001b[0;34m,\u001b[0m \u001b[0mvalue\u001b[0m\u001b[0;34m)\u001b[0m \u001b[0;34m->\u001b[0m \u001b[0;32mNone\u001b[0m\u001b[0;34m:\u001b[0m\u001b[0;34m\u001b[0m\u001b[0;34m\u001b[0m\u001b[0m\n",
      "\u001b[0;31mAttributeError\u001b[0m: 'DataFrame' object has no attribute 'rows'"
     ]
    }
   ],
   "source": [
    "########## RUN SIMULATION ############\n",
    "\n",
    "results = pd.DataFrame(columns = ['step', 'price', 'assetA_count', 'assetB_count', 'position_value', 'debt_value', 'equity', 'last_rebalance_step'])\n",
    "\n",
    "INITIAL_EQUITY = 10000\n",
    "BORROW_APR = 85/100        # token borrow rate (%)\n",
    "FARMING_APR = 100/100      # farming and all rewards rate (%)\n",
    "STEPS_PER_YEAR = 365*24    # hourly data\n",
    "\n",
    "# Assume a time step is 1 day\n",
    "agent = Agent(\n",
    "    INITIAL_EQUITY,        # initial equity\n",
    "    prices['close'].iloc[0],         # initial token_price \n",
    "    BORROW_APR/365,    # borrow rate per time step \n",
    "    FARMING_APR/365    # farming rate at 1x leverage per time step\n",
    ")\n",
    "\n",
    "# Drop first row\n",
    "prices = prices.iloc[1: , :]\n",
    "\n",
    "step = 0\n",
    "for row in prices.rows:\n",
    "    step += 1\n",
    "\n",
    "    agent.action(step, row['close']) \n",
    "    \n",
    "    results = df.append ({\n",
    "        'step': step,\n",
    "        'price': p,\n",
    "        'assetA_count' : agent.assetA_count,\n",
    "        'assetB_count' : agent.assetB_count,\n",
    "        'position_value': agent.position_value,\n",
    "        'debt_value': agent.debt_value,\n",
    "        'equity': agent.equity,\n",
    "        'last_rebalance_step': agent.last_rebalance_step\n",
    "        },\n",
    "        ignore_index=True)\n",
    "\n",
    "results.head()\n",
    "\n",
    "\n",
    "\n",
    "#TODO\n",
    "# put in real price data \n",
    "# brownie tests!  this is fragile!\n",
    "# summary stats\n",
    "# try rebalance strats\n",
    "# deal with nuances - e.g. francium autocompounds rewards every 15m, compounding of borrow?  https://docs.francium.io/product/protocol-parameters\n",
    "# extend to 3x and other leverages\n",
    "\n",
    "# entry_fee = 0\n",
    "# exit_fee = 0\n",
    "# controller_fee = 0.001  \n",
    "# reinvestent_fee = 0.039 \n",
    "# tx_fee = 0  # network fee\n",
    "# performance_fee = 0\n"
   ]
  },
  {
   "cell_type": "code",
   "execution_count": null,
   "id": "be2124dd",
   "metadata": {},
   "outputs": [],
   "source": []
  }
 ],
 "metadata": {
  "kernelspec": {
   "display_name": "Python 3",
   "language": "python",
   "name": "python3"
  },
  "language_info": {
   "codemirror_mode": {
    "name": "ipython",
    "version": 3
   },
   "file_extension": ".py",
   "mimetype": "text/x-python",
   "name": "python",
   "nbconvert_exporter": "python",
   "pygments_lexer": "ipython3",
   "version": "3.8.8"
  }
 },
 "nbformat": 4,
 "nbformat_minor": 5
}
